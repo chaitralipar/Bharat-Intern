{
 "cells": [
  {
   "cell_type": "markdown",
   "id": "dfd24eb9",
   "metadata": {},
   "source": [
    "## Google Stock Price Prediction using LSTM"
   ]
  },
  {
   "cell_type": "markdown",
   "id": "ccce82d7",
   "metadata": {},
   "source": [
    "A stock market is a public market where you can buy and sell shares for publicly listed companies. The stocks, also known as equities, represent ownership in the company. The stock exchange is the mediator that allows the buying and selling of shares."
   ]
  },
  {
   "cell_type": "markdown",
   "id": "b4b43266",
   "metadata": {},
   "source": [
    "### Stock Price Prediction\n",
    "Stock Price Prediction using machine learning helps you discover the future value of company stock and other financial assets traded on an exchange. The entire idea of predicting stock prices is to gain significant profits. Predicting how the stock market will perform is a hard task to do. There are other factors involved in the prediction, such as physical and psychological factors, rational and irrational behavior, and so on. All these factors combine to make share prices dynamic and volatile. This makes it very difficult to predict stock prices with high accuracy. "
   ]
  },
  {
   "cell_type": "markdown",
   "id": "907b2a1a",
   "metadata": {},
   "source": [
    "#### IMPORTING THE LIBRARIES"
   ]
  },
  {
   "cell_type": "code",
   "execution_count": 82,
   "id": "4d133b0c",
   "metadata": {},
   "outputs": [],
   "source": [
    "#Libraries\n",
    "import pandas as pd\n",
    "import numpy as np\n",
    "import matplotlib.pyplot as plt\n",
    "import seaborn as sns\n",
    "from sklearn.preprocessing import MinMaxScaler\n",
    "from sklearn.model_selection import learning_curve\n",
    "from keras.models import Sequential\n",
    "from keras.layers import LSTM, Dense, Dropout"
   ]
  },
  {
   "cell_type": "code",
   "execution_count": 83,
   "id": "bf4ccf54",
   "metadata": {},
   "outputs": [
    {
     "name": "stdout",
     "output_type": "stream",
     "text": [
      "Requirement already satisfied: keras in c:\\users\\chait\\anaconda3\\lib\\site-packages (2.13.1)\n"
     ]
    }
   ],
   "source": [
    "!pip install keras"
   ]
  },
  {
   "cell_type": "code",
   "execution_count": 84,
   "id": "e697fb5e",
   "metadata": {},
   "outputs": [
    {
     "name": "stdout",
     "output_type": "stream",
     "text": [
      "Requirement already satisfied: tensorflow in c:\\users\\chait\\anaconda3\\lib\\site-packages (2.13.0)\n",
      "Requirement already satisfied: tensorflow-intel==2.13.0 in c:\\users\\chait\\anaconda3\\lib\\site-packages (from tensorflow) (2.13.0)\n",
      "Requirement already satisfied: h5py>=2.9.0 in c:\\users\\chait\\anaconda3\\lib\\site-packages (from tensorflow-intel==2.13.0->tensorflow) (3.6.0)\n",
      "Requirement already satisfied: setuptools in c:\\users\\chait\\anaconda3\\lib\\site-packages (from tensorflow-intel==2.13.0->tensorflow) (67.6.0)\n",
      "Requirement already satisfied: typing-extensions<4.6.0,>=3.6.6 in c:\\users\\chait\\anaconda3\\lib\\site-packages (from tensorflow-intel==2.13.0->tensorflow) (4.5.0)\n",
      "Requirement already satisfied: protobuf!=4.21.0,!=4.21.1,!=4.21.2,!=4.21.3,!=4.21.4,!=4.21.5,<5.0.0dev,>=3.20.3 in c:\\users\\chait\\anaconda3\\lib\\site-packages (from tensorflow-intel==2.13.0->tensorflow) (4.22.1)\n",
      "Requirement already satisfied: keras<2.14,>=2.13.1 in c:\\users\\chait\\anaconda3\\lib\\site-packages (from tensorflow-intel==2.13.0->tensorflow) (2.13.1)\n",
      "Requirement already satisfied: tensorflow-estimator<2.14,>=2.13.0 in c:\\users\\chait\\anaconda3\\lib\\site-packages (from tensorflow-intel==2.13.0->tensorflow) (2.13.0)\n",
      "Requirement already satisfied: google-pasta>=0.1.1 in c:\\users\\chait\\anaconda3\\lib\\site-packages (from tensorflow-intel==2.13.0->tensorflow) (0.2.0)\n",
      "Requirement already satisfied: numpy<=1.24.3,>=1.22 in c:\\users\\chait\\anaconda3\\lib\\site-packages (from tensorflow-intel==2.13.0->tensorflow) (1.22.4)\n",
      "Requirement already satisfied: packaging in c:\\users\\chait\\anaconda3\\lib\\site-packages (from tensorflow-intel==2.13.0->tensorflow) (21.3)\n",
      "Requirement already satisfied: grpcio<2.0,>=1.24.3 in c:\\users\\chait\\anaconda3\\lib\\site-packages (from tensorflow-intel==2.13.0->tensorflow) (1.51.3)\n",
      "Requirement already satisfied: tensorboard<2.14,>=2.13 in c:\\users\\chait\\anaconda3\\lib\\site-packages (from tensorflow-intel==2.13.0->tensorflow) (2.13.0)\n",
      "Requirement already satisfied: tensorflow-io-gcs-filesystem>=0.23.1 in c:\\users\\chait\\anaconda3\\lib\\site-packages (from tensorflow-intel==2.13.0->tensorflow) (0.31.0)\n",
      "Requirement already satisfied: flatbuffers>=23.1.21 in c:\\users\\chait\\anaconda3\\lib\\site-packages (from tensorflow-intel==2.13.0->tensorflow) (23.5.26)\n",
      "Requirement already satisfied: astunparse>=1.6.0 in c:\\users\\chait\\anaconda3\\lib\\site-packages (from tensorflow-intel==2.13.0->tensorflow) (1.6.3)\n",
      "Requirement already satisfied: opt-einsum>=2.3.2 in c:\\users\\chait\\anaconda3\\lib\\site-packages (from tensorflow-intel==2.13.0->tensorflow) (3.3.0)\n",
      "Requirement already satisfied: termcolor>=1.1.0 in c:\\users\\chait\\anaconda3\\lib\\site-packages (from tensorflow-intel==2.13.0->tensorflow) (2.3.0)\n",
      "Requirement already satisfied: six>=1.12.0 in c:\\users\\chait\\anaconda3\\lib\\site-packages (from tensorflow-intel==2.13.0->tensorflow) (1.16.0)\n",
      "Requirement already satisfied: libclang>=13.0.0 in c:\\users\\chait\\anaconda3\\lib\\site-packages (from tensorflow-intel==2.13.0->tensorflow) (16.0.6)\n",
      "Requirement already satisfied: absl-py>=1.0.0 in c:\\users\\chait\\anaconda3\\lib\\site-packages (from tensorflow-intel==2.13.0->tensorflow) (1.4.0)\n",
      "Requirement already satisfied: wrapt>=1.11.0 in c:\\users\\chait\\anaconda3\\lib\\site-packages (from tensorflow-intel==2.13.0->tensorflow) (1.12.1)\n",
      "Requirement already satisfied: gast<=0.4.0,>=0.2.1 in c:\\users\\chait\\anaconda3\\lib\\site-packages (from tensorflow-intel==2.13.0->tensorflow) (0.4.0)\n",
      "Requirement already satisfied: wheel<1.0,>=0.23.0 in c:\\users\\chait\\anaconda3\\lib\\site-packages (from astunparse>=1.6.0->tensorflow-intel==2.13.0->tensorflow) (0.40.0)\n",
      "Requirement already satisfied: google-auth<3,>=1.6.3 in c:\\users\\chait\\anaconda3\\lib\\site-packages (from tensorboard<2.14,>=2.13->tensorflow-intel==2.13.0->tensorflow) (2.22.0)\n",
      "Requirement already satisfied: requests<3,>=2.21.0 in c:\\users\\chait\\anaconda3\\lib\\site-packages (from tensorboard<2.14,>=2.13->tensorflow-intel==2.13.0->tensorflow) (2.27.1)\n",
      "Requirement already satisfied: werkzeug>=1.0.1 in c:\\users\\chait\\anaconda3\\lib\\site-packages (from tensorboard<2.14,>=2.13->tensorflow-intel==2.13.0->tensorflow) (2.0.3)\n",
      "Requirement already satisfied: markdown>=2.6.8 in c:\\users\\chait\\anaconda3\\lib\\site-packages (from tensorboard<2.14,>=2.13->tensorflow-intel==2.13.0->tensorflow) (3.3.4)\n",
      "Requirement already satisfied: tensorboard-data-server<0.8.0,>=0.7.0 in c:\\users\\chait\\anaconda3\\lib\\site-packages (from tensorboard<2.14,>=2.13->tensorflow-intel==2.13.0->tensorflow) (0.7.0)\n",
      "Requirement already satisfied: google-auth-oauthlib<1.1,>=0.5 in c:\\users\\chait\\anaconda3\\lib\\site-packages (from tensorboard<2.14,>=2.13->tensorflow-intel==2.13.0->tensorflow) (1.0.0)\n",
      "Requirement already satisfied: cachetools<6.0,>=2.0.0 in c:\\users\\chait\\anaconda3\\lib\\site-packages (from google-auth<3,>=1.6.3->tensorboard<2.14,>=2.13->tensorflow-intel==2.13.0->tensorflow) (4.2.2)\n",
      "Requirement already satisfied: rsa<5,>=3.1.4 in c:\\users\\chait\\anaconda3\\lib\\site-packages (from google-auth<3,>=1.6.3->tensorboard<2.14,>=2.13->tensorflow-intel==2.13.0->tensorflow) (4.7.2)\n",
      "Requirement already satisfied: urllib3<2.0 in c:\\users\\chait\\anaconda3\\lib\\site-packages (from google-auth<3,>=1.6.3->tensorboard<2.14,>=2.13->tensorflow-intel==2.13.0->tensorflow) (1.26.9)\n",
      "Requirement already satisfied: pyasn1-modules>=0.2.1 in c:\\users\\chait\\anaconda3\\lib\\site-packages (from google-auth<3,>=1.6.3->tensorboard<2.14,>=2.13->tensorflow-intel==2.13.0->tensorflow) (0.2.8)\n",
      "Requirement already satisfied: requests-oauthlib>=0.7.0 in c:\\users\\chait\\anaconda3\\lib\\site-packages (from google-auth-oauthlib<1.1,>=0.5->tensorboard<2.14,>=2.13->tensorflow-intel==2.13.0->tensorflow) (1.3.1)\n",
      "Requirement already satisfied: pyasn1<0.5.0,>=0.4.6 in c:\\users\\chait\\anaconda3\\lib\\site-packages (from pyasn1-modules>=0.2.1->google-auth<3,>=1.6.3->tensorboard<2.14,>=2.13->tensorflow-intel==2.13.0->tensorflow) (0.4.8)\n",
      "Requirement already satisfied: certifi>=2017.4.17 in c:\\users\\chait\\anaconda3\\lib\\site-packages (from requests<3,>=2.21.0->tensorboard<2.14,>=2.13->tensorflow-intel==2.13.0->tensorflow) (2022.12.7)\n",
      "Requirement already satisfied: charset-normalizer~=2.0.0 in c:\\users\\chait\\anaconda3\\lib\\site-packages (from requests<3,>=2.21.0->tensorboard<2.14,>=2.13->tensorflow-intel==2.13.0->tensorflow) (2.0.4)\n",
      "Requirement already satisfied: idna<4,>=2.5 in c:\\users\\chait\\anaconda3\\lib\\site-packages (from requests<3,>=2.21.0->tensorboard<2.14,>=2.13->tensorflow-intel==2.13.0->tensorflow) (3.3)\n",
      "Requirement already satisfied: oauthlib>=3.0.0 in c:\\users\\chait\\anaconda3\\lib\\site-packages (from requests-oauthlib>=0.7.0->google-auth-oauthlib<1.1,>=0.5->tensorboard<2.14,>=2.13->tensorflow-intel==2.13.0->tensorflow) (3.2.2)\n",
      "Requirement already satisfied: pyparsing!=3.0.5,>=2.0.2 in c:\\users\\chait\\anaconda3\\lib\\site-packages (from packaging->tensorflow-intel==2.13.0->tensorflow) (3.0.4)\n"
     ]
    }
   ],
   "source": [
    "!pip install tensorflow"
   ]
  },
  {
   "cell_type": "markdown",
   "id": "a42ec86c",
   "metadata": {},
   "source": [
    "#### Getting DataSet(Train)"
   ]
  },
  {
   "cell_type": "code",
   "execution_count": 114,
   "id": "78d3c86a",
   "metadata": {},
   "outputs": [],
   "source": [
    "data_train= pd.read_csv(r'D:\\Datasets\\Google_Stock_Price_Train.csv', parse_dates= ['Date'], index_col= 'Date')"
   ]
  },
  {
   "cell_type": "code",
   "execution_count": 115,
   "id": "ceb460ef",
   "metadata": {},
   "outputs": [
    {
     "data": {
      "text/html": [
       "<div>\n",
       "<style scoped>\n",
       "    .dataframe tbody tr th:only-of-type {\n",
       "        vertical-align: middle;\n",
       "    }\n",
       "\n",
       "    .dataframe tbody tr th {\n",
       "        vertical-align: top;\n",
       "    }\n",
       "\n",
       "    .dataframe thead th {\n",
       "        text-align: right;\n",
       "    }\n",
       "</style>\n",
       "<table border=\"1\" class=\"dataframe\">\n",
       "  <thead>\n",
       "    <tr style=\"text-align: right;\">\n",
       "      <th></th>\n",
       "      <th>Open</th>\n",
       "      <th>High</th>\n",
       "      <th>Low</th>\n",
       "      <th>Close</th>\n",
       "      <th>Volume</th>\n",
       "    </tr>\n",
       "    <tr>\n",
       "      <th>Date</th>\n",
       "      <th></th>\n",
       "      <th></th>\n",
       "      <th></th>\n",
       "      <th></th>\n",
       "      <th></th>\n",
       "    </tr>\n",
       "  </thead>\n",
       "  <tbody>\n",
       "    <tr>\n",
       "      <th>2012-01-03</th>\n",
       "      <td>325.25</td>\n",
       "      <td>332.83</td>\n",
       "      <td>324.97</td>\n",
       "      <td>663.59</td>\n",
       "      <td>7,380,500</td>\n",
       "    </tr>\n",
       "    <tr>\n",
       "      <th>2012-01-04</th>\n",
       "      <td>331.27</td>\n",
       "      <td>333.87</td>\n",
       "      <td>329.08</td>\n",
       "      <td>666.45</td>\n",
       "      <td>5,749,400</td>\n",
       "    </tr>\n",
       "    <tr>\n",
       "      <th>2012-01-05</th>\n",
       "      <td>329.83</td>\n",
       "      <td>330.75</td>\n",
       "      <td>326.89</td>\n",
       "      <td>657.21</td>\n",
       "      <td>6,590,300</td>\n",
       "    </tr>\n",
       "    <tr>\n",
       "      <th>2012-01-06</th>\n",
       "      <td>328.34</td>\n",
       "      <td>328.77</td>\n",
       "      <td>323.68</td>\n",
       "      <td>648.24</td>\n",
       "      <td>5,405,900</td>\n",
       "    </tr>\n",
       "    <tr>\n",
       "      <th>2012-01-09</th>\n",
       "      <td>322.04</td>\n",
       "      <td>322.29</td>\n",
       "      <td>309.46</td>\n",
       "      <td>620.76</td>\n",
       "      <td>11,688,800</td>\n",
       "    </tr>\n",
       "  </tbody>\n",
       "</table>\n",
       "</div>"
      ],
      "text/plain": [
       "              Open    High     Low   Close      Volume\n",
       "Date                                                  \n",
       "2012-01-03  325.25  332.83  324.97  663.59   7,380,500\n",
       "2012-01-04  331.27  333.87  329.08  666.45   5,749,400\n",
       "2012-01-05  329.83  330.75  326.89  657.21   6,590,300\n",
       "2012-01-06  328.34  328.77  323.68  648.24   5,405,900\n",
       "2012-01-09  322.04  322.29  309.46  620.76  11,688,800"
      ]
     },
     "execution_count": 115,
     "metadata": {},
     "output_type": "execute_result"
    }
   ],
   "source": [
    "data_train.head()"
   ]
  },
  {
   "cell_type": "markdown",
   "id": "4d4a0599",
   "metadata": {},
   "source": [
    "#### Getting DataSet(Test)"
   ]
  },
  {
   "cell_type": "code",
   "execution_count": 116,
   "id": "3482ab82",
   "metadata": {},
   "outputs": [],
   "source": [
    "data_test= pd.read_csv(r'D:\\Datasets\\Google_Stock_Price_Test.csv',parse_dates= ['Date'], index_col= 'Date')"
   ]
  },
  {
   "cell_type": "code",
   "execution_count": 117,
   "id": "ccb89279",
   "metadata": {},
   "outputs": [
    {
     "data": {
      "text/html": [
       "<div>\n",
       "<style scoped>\n",
       "    .dataframe tbody tr th:only-of-type {\n",
       "        vertical-align: middle;\n",
       "    }\n",
       "\n",
       "    .dataframe tbody tr th {\n",
       "        vertical-align: top;\n",
       "    }\n",
       "\n",
       "    .dataframe thead th {\n",
       "        text-align: right;\n",
       "    }\n",
       "</style>\n",
       "<table border=\"1\" class=\"dataframe\">\n",
       "  <thead>\n",
       "    <tr style=\"text-align: right;\">\n",
       "      <th></th>\n",
       "      <th>Open</th>\n",
       "      <th>High</th>\n",
       "      <th>Low</th>\n",
       "      <th>Close</th>\n",
       "      <th>Volume</th>\n",
       "    </tr>\n",
       "    <tr>\n",
       "      <th>Date</th>\n",
       "      <th></th>\n",
       "      <th></th>\n",
       "      <th></th>\n",
       "      <th></th>\n",
       "      <th></th>\n",
       "    </tr>\n",
       "  </thead>\n",
       "  <tbody>\n",
       "    <tr>\n",
       "      <th>2017-01-03</th>\n",
       "      <td>778.81</td>\n",
       "      <td>789.63</td>\n",
       "      <td>775.80</td>\n",
       "      <td>786.14</td>\n",
       "      <td>1,657,300</td>\n",
       "    </tr>\n",
       "    <tr>\n",
       "      <th>2017-01-04</th>\n",
       "      <td>788.36</td>\n",
       "      <td>791.34</td>\n",
       "      <td>783.16</td>\n",
       "      <td>786.90</td>\n",
       "      <td>1,073,000</td>\n",
       "    </tr>\n",
       "    <tr>\n",
       "      <th>2017-01-05</th>\n",
       "      <td>786.08</td>\n",
       "      <td>794.48</td>\n",
       "      <td>785.02</td>\n",
       "      <td>794.02</td>\n",
       "      <td>1,335,200</td>\n",
       "    </tr>\n",
       "    <tr>\n",
       "      <th>2017-01-06</th>\n",
       "      <td>795.26</td>\n",
       "      <td>807.90</td>\n",
       "      <td>792.20</td>\n",
       "      <td>806.15</td>\n",
       "      <td>1,640,200</td>\n",
       "    </tr>\n",
       "    <tr>\n",
       "      <th>2017-01-09</th>\n",
       "      <td>806.40</td>\n",
       "      <td>809.97</td>\n",
       "      <td>802.83</td>\n",
       "      <td>806.65</td>\n",
       "      <td>1,272,400</td>\n",
       "    </tr>\n",
       "  </tbody>\n",
       "</table>\n",
       "</div>"
      ],
      "text/plain": [
       "              Open    High     Low   Close     Volume\n",
       "Date                                                 \n",
       "2017-01-03  778.81  789.63  775.80  786.14  1,657,300\n",
       "2017-01-04  788.36  791.34  783.16  786.90  1,073,000\n",
       "2017-01-05  786.08  794.48  785.02  794.02  1,335,200\n",
       "2017-01-06  795.26  807.90  792.20  806.15  1,640,200\n",
       "2017-01-09  806.40  809.97  802.83  806.65  1,272,400"
      ]
     },
     "execution_count": 117,
     "metadata": {},
     "output_type": "execute_result"
    }
   ],
   "source": [
    "data_test.head()"
   ]
  },
  {
   "cell_type": "code",
   "execution_count": 118,
   "id": "625bff3a",
   "metadata": {},
   "outputs": [
    {
     "data": {
      "text/plain": [
       "Open      0\n",
       "High      0\n",
       "Low       0\n",
       "Close     0\n",
       "Volume    0\n",
       "dtype: int64"
      ]
     },
     "execution_count": 118,
     "metadata": {},
     "output_type": "execute_result"
    }
   ],
   "source": [
    "## Checking the null values for trained data\n",
    "data_train.isnull().sum()"
   ]
  },
  {
   "cell_type": "code",
   "execution_count": 119,
   "id": "398356b9",
   "metadata": {},
   "outputs": [
    {
     "name": "stdout",
     "output_type": "stream",
     "text": [
      "<class 'pandas.core.frame.DataFrame'>\n",
      "DatetimeIndex: 1258 entries, 2012-01-03 to 2016-12-30\n",
      "Data columns (total 5 columns):\n",
      " #   Column  Non-Null Count  Dtype  \n",
      "---  ------  --------------  -----  \n",
      " 0   Open    1258 non-null   float64\n",
      " 1   High    1258 non-null   float64\n",
      " 2   Low     1258 non-null   float64\n",
      " 3   Close   1258 non-null   object \n",
      " 4   Volume  1258 non-null   object \n",
      "dtypes: float64(3), object(2)\n",
      "memory usage: 59.0+ KB\n"
     ]
    }
   ],
   "source": [
    "## Checking the datatypes of each column of trained data\n",
    "data_train.info()"
   ]
  },
  {
   "cell_type": "markdown",
   "id": "9712748c",
   "metadata": {},
   "source": [
    "### Converting the Close feature datatype into numeric"
   ]
  },
  {
   "cell_type": "code",
   "execution_count": 120,
   "id": "f9fd8f59",
   "metadata": {},
   "outputs": [
    {
     "name": "stdout",
     "output_type": "stream",
     "text": [
      "<class 'pandas.core.frame.DataFrame'>\n",
      "DatetimeIndex: 1258 entries, 2012-01-03 to 2016-12-30\n",
      "Data columns (total 5 columns):\n",
      " #   Column  Non-Null Count  Dtype  \n",
      "---  ------  --------------  -----  \n",
      " 0   Open    1258 non-null   float64\n",
      " 1   High    1258 non-null   float64\n",
      " 2   Low     1258 non-null   float64\n",
      " 3   Close   1258 non-null   float64\n",
      " 4   Volume  1258 non-null   object \n",
      "dtypes: float64(4), object(1)\n",
      "memory usage: 59.0+ KB\n"
     ]
    }
   ],
   "source": [
    "data_train['Close']= data_train['Close'].apply(str).str.replace(',', '')\n",
    "data_train['Close']= pd.to_numeric(data_train['Close'])\n",
    "data_train.info()"
   ]
  },
  {
   "cell_type": "markdown",
   "id": "edc41cff",
   "metadata": {},
   "source": [
    "### Creating the new dataframe from trained data"
   ]
  },
  {
   "cell_type": "code",
   "execution_count": 121,
   "id": "add0339b",
   "metadata": {},
   "outputs": [],
   "source": [
    "trained_data= data_train[['Close']]"
   ]
  },
  {
   "cell_type": "code",
   "execution_count": 122,
   "id": "22777d41",
   "metadata": {},
   "outputs": [
    {
     "data": {
      "text/html": [
       "<div>\n",
       "<style scoped>\n",
       "    .dataframe tbody tr th:only-of-type {\n",
       "        vertical-align: middle;\n",
       "    }\n",
       "\n",
       "    .dataframe tbody tr th {\n",
       "        vertical-align: top;\n",
       "    }\n",
       "\n",
       "    .dataframe thead th {\n",
       "        text-align: right;\n",
       "    }\n",
       "</style>\n",
       "<table border=\"1\" class=\"dataframe\">\n",
       "  <thead>\n",
       "    <tr style=\"text-align: right;\">\n",
       "      <th></th>\n",
       "      <th>Close</th>\n",
       "    </tr>\n",
       "    <tr>\n",
       "      <th>Date</th>\n",
       "      <th></th>\n",
       "    </tr>\n",
       "  </thead>\n",
       "  <tbody>\n",
       "    <tr>\n",
       "      <th>2012-01-03</th>\n",
       "      <td>663.59</td>\n",
       "    </tr>\n",
       "    <tr>\n",
       "      <th>2012-01-04</th>\n",
       "      <td>666.45</td>\n",
       "    </tr>\n",
       "    <tr>\n",
       "      <th>2012-01-05</th>\n",
       "      <td>657.21</td>\n",
       "    </tr>\n",
       "    <tr>\n",
       "      <th>2012-01-06</th>\n",
       "      <td>648.24</td>\n",
       "    </tr>\n",
       "    <tr>\n",
       "      <th>2012-01-09</th>\n",
       "      <td>620.76</td>\n",
       "    </tr>\n",
       "  </tbody>\n",
       "</table>\n",
       "</div>"
      ],
      "text/plain": [
       "             Close\n",
       "Date              \n",
       "2012-01-03  663.59\n",
       "2012-01-04  666.45\n",
       "2012-01-05  657.21\n",
       "2012-01-06  648.24\n",
       "2012-01-09  620.76"
      ]
     },
     "execution_count": 122,
     "metadata": {},
     "output_type": "execute_result"
    }
   ],
   "source": [
    "trained_data.head()"
   ]
  },
  {
   "cell_type": "markdown",
   "id": "95f3e299",
   "metadata": {},
   "source": [
    "### Plotting the new Dataframe to find out the characterstics."
   ]
  },
  {
   "cell_type": "code",
   "execution_count": 123,
   "id": "272071bf",
   "metadata": {},
   "outputs": [
    {
     "data": {
      "text/plain": [
       "<Figure size 1152x360 with 0 Axes>"
      ]
     },
     "metadata": {},
     "output_type": "display_data"
    },
    {
     "data": {
      "image/png": "[encoded data removed]",
      "text/plain": [
       "<Figure size 432x288 with 1 Axes>"
      ]
     },
     "metadata": {
      "needs_background": "light"
     },
     "output_type": "display_data"
    }
   ],
   "source": [
    "## Plotting graph for close feature\n",
    "plt.figure(figsize=(16,5))\n",
    "trained_data.plot()\n",
    "plt.show()"
   ]
  },
  {
   "cell_type": "code",
   "execution_count": 124,
   "id": "61b7a1f9",
   "metadata": {},
   "outputs": [],
   "source": [
    "# train= trained_data[:round(len(trained_data)*0.80)]\n",
    "# test= trained_data[round(len(trained_data)*0.80):]"
   ]
  },
  {
   "cell_type": "code",
   "execution_count": 125,
   "id": "13b2cf96",
   "metadata": {},
   "outputs": [
    {
     "data": {
      "text/html": [
       "<div>\n",
       "<style scoped>\n",
       "    .dataframe tbody tr th:only-of-type {\n",
       "        vertical-align: middle;\n",
       "    }\n",
       "\n",
       "    .dataframe tbody tr th {\n",
       "        vertical-align: top;\n",
       "    }\n",
       "\n",
       "    .dataframe thead th {\n",
       "        text-align: right;\n",
       "    }\n",
       "</style>\n",
       "<table border=\"1\" class=\"dataframe\">\n",
       "  <thead>\n",
       "    <tr style=\"text-align: right;\">\n",
       "      <th></th>\n",
       "      <th>Close</th>\n",
       "    </tr>\n",
       "    <tr>\n",
       "      <th>Date</th>\n",
       "      <th></th>\n",
       "    </tr>\n",
       "  </thead>\n",
       "  <tbody>\n",
       "    <tr>\n",
       "      <th>2012-01-03</th>\n",
       "      <td>663.59</td>\n",
       "    </tr>\n",
       "    <tr>\n",
       "      <th>2012-01-04</th>\n",
       "      <td>666.45</td>\n",
       "    </tr>\n",
       "    <tr>\n",
       "      <th>2012-01-05</th>\n",
       "      <td>657.21</td>\n",
       "    </tr>\n",
       "    <tr>\n",
       "      <th>2012-01-06</th>\n",
       "      <td>648.24</td>\n",
       "    </tr>\n",
       "    <tr>\n",
       "      <th>2012-01-09</th>\n",
       "      <td>620.76</td>\n",
       "    </tr>\n",
       "  </tbody>\n",
       "</table>\n",
       "</div>"
      ],
      "text/plain": [
       "             Close\n",
       "Date              \n",
       "2012-01-03  663.59\n",
       "2012-01-04  666.45\n",
       "2012-01-05  657.21\n",
       "2012-01-06  648.24\n",
       "2012-01-09  620.76"
      ]
     },
     "execution_count": 125,
     "metadata": {},
     "output_type": "execute_result"
    }
   ],
   "source": [
    "trained_data.head()"
   ]
  },
  {
   "cell_type": "markdown",
   "id": "de7112ec",
   "metadata": {},
   "source": [
    "## Doing Feature Scaling"
   ]
  },
  {
   "cell_type": "code",
   "execution_count": 126,
   "id": "5a1e65df",
   "metadata": {},
   "outputs": [],
   "source": [
    "## Using the MinMax Scaler to scale the value between 0 and 1\n",
    "scaler= MinMaxScaler(feature_range=(0,1))\n",
    "stock_price= scaler.fit_transform(trained_data)"
   ]
  },
  {
   "cell_type": "code",
   "execution_count": 127,
   "id": "c5b98dc3",
   "metadata": {},
   "outputs": [
    {
     "data": {
      "text/plain": [
       "(1258, 1)"
      ]
     },
     "execution_count": 127,
     "metadata": {},
     "output_type": "execute_result"
    }
   ],
   "source": [
    "## Checking the shape of the data\n",
    "stock_price.shape"
   ]
  },
  {
   "cell_type": "markdown",
   "id": "514d06ff",
   "metadata": {},
   "source": [
    "#### Below we will be taking previous 40 days open datasteps to predict the next values \n",
    "\n",
    "#### so we are converting our train data as per our input in LTSM layers. i.e for taking 0 to 39 days open price to get 40th day price as output, 1 to 40 for 41, 2 to 41 for 42 \n",
    "\n",
    "#### Here we are doing Feature Selection"
   ]
  },
  {
   "cell_type": "code",
   "execution_count": 128,
   "id": "a68f74ad",
   "metadata": {},
   "outputs": [],
   "source": [
    "x_train= []\n",
    "y_train= []\n",
    "\n",
    "for i in range(40, len(stock_price)):\n",
    "    x_train.append(stock_price[i-40: i,0])\n",
    "    y_train.append(stock_price[i,0])\n",
    "#    print(i)"
   ]
  },
  {
   "cell_type": "code",
   "execution_count": 129,
   "id": "12fd128c",
   "metadata": {},
   "outputs": [],
   "source": [
    "# x_train"
   ]
  },
  {
   "cell_type": "code",
   "execution_count": 130,
   "id": "f4a1efd1",
   "metadata": {},
   "outputs": [],
   "source": [
    "## Taking array of both the datasets\n",
    "x_train= np.array(x_train)\n",
    "y_train= np.array(y_train)"
   ]
  },
  {
   "cell_type": "markdown",
   "id": "ef1664d6",
   "metadata": {},
   "source": [
    "#### Checking the shape after taking the timesteps"
   ]
  },
  {
   "cell_type": "code",
   "execution_count": 131,
   "id": "5fcfc34d",
   "metadata": {},
   "outputs": [
    {
     "data": {
      "text/plain": [
       "(1218, 40)"
      ]
     },
     "execution_count": 131,
     "metadata": {},
     "output_type": "execute_result"
    }
   ],
   "source": [
    "## We have taken the timesteps of 40\n",
    "x_train.shape"
   ]
  },
  {
   "cell_type": "code",
   "execution_count": 132,
   "id": "5ce2f343",
   "metadata": {},
   "outputs": [
    {
     "data": {
      "text/plain": [
       "(1218,)"
      ]
     },
     "execution_count": 132,
     "metadata": {},
     "output_type": "execute_result"
    }
   ],
   "source": [
    "y_train.shape"
   ]
  },
  {
   "cell_type": "markdown",
   "id": "abf1d084",
   "metadata": {},
   "source": [
    "#### Reshaping the input as per input given to LSTM model"
   ]
  },
  {
   "cell_type": "code",
   "execution_count": 133,
   "id": "a02e44c6",
   "metadata": {},
   "outputs": [],
   "source": [
    "x_train= x_train.reshape(x_train.shape[0], x_train.shape[1],1)"
   ]
  },
  {
   "cell_type": "markdown",
   "id": "24b1541d",
   "metadata": {},
   "source": [
    "## Building LSTM Network"
   ]
  },
  {
   "cell_type": "code",
   "execution_count": 134,
   "id": "507698a4",
   "metadata": {},
   "outputs": [],
   "source": [
    "model= Sequential()\n",
    "model.add(LSTM(units= 50, return_sequences=True, input_shape= (x_train.shape[1], 1)))\n",
    "model.add(Dropout(0.2))\n",
    "\n",
    "model.add(LSTM(units= 50, return_sequences=True,activation= 'relu'))\n",
    "model.add(Dropout(0.2))\n",
    "\n",
    "model.add(LSTM(units= 50, return_sequences=True,activation= 'relu'))\n",
    "model.add(Dropout(0.2))\n",
    "\n",
    "model.add(LSTM(units= 50))\n",
    "model.add(Dropout(0.2))\n",
    "\n",
    "model.add(Dense(units=1))\n",
    "\n",
    "model.compile(optimizer= 'adam', loss= 'mean_squared_error',metrics = ['accuracy'])"
   ]
  },
  {
   "cell_type": "code",
   "execution_count": null,
   "id": "2e38179c",
   "metadata": {},
   "outputs": [
    {
     "name": "stdout",
     "output_type": "stream",
     "text": [
      "Epoch 1/100\n",
      "30/30 [==============================] - 31s 214ms/step - loss: 0.0473 - accuracy: 0.0021 - val_loss: 0.0095 - val_accuracy: 0.0000e+00\n",
      "Epoch 2/100\n",
      "30/30 [==============================] - 4s 139ms/step - loss: 0.0186 - accuracy: 0.0021 - val_loss: 0.0047 - val_accuracy: 0.0000e+00\n",
      "Epoch 3/100\n",
      "30/30 [==============================] - 4s 125ms/step - loss: 0.0130 - accuracy: 0.0021 - val_loss: 0.0013 - val_accuracy: 0.0000e+00\n",
      "Epoch 4/100\n",
      "30/30 [==============================] - 4s 125ms/step - loss: 0.0108 - accuracy: 0.0021 - val_loss: 0.0026 - val_accuracy: 0.0000e+00\n",
      "Epoch 5/100\n",
      "30/30 [==============================] - 4s 119ms/step - loss: 0.0110 - accuracy: 0.0021 - val_loss: 0.0031 - val_accuracy: 0.0000e+00\n",
      "Epoch 6/100\n",
      "30/30 [==============================] - 3s 109ms/step - loss: 0.0092 - accuracy: 0.0021 - val_loss: 0.0012 - val_accuracy: 0.0000e+00\n",
      "Epoch 7/100\n",
      "13/30 [============>.................] - ETA: 1s - loss: 0.0102 - accuracy: 0.0024"
     ]
    }
   ],
   "source": [
    "history= model.fit(x_train, y_train, epochs= 100, validation_split= 0.22)"
   ]
  },
  {
   "cell_type": "markdown",
   "id": "2e0a5171",
   "metadata": {},
   "source": [
    "#### As their is much difference inTraining Accuracy & Validation Accuracy it can be said that their is overfitting condition in data"
   ]
  },
  {
   "cell_type": "markdown",
   "id": "4dd813c5",
   "metadata": {},
   "source": [
    "### It can be seen that their is overfitting the reason behind it could be The training data size is too small and does not contain enough data samples ton correctly represent all possible input data values."
   ]
  },
  {
   "cell_type": "markdown",
   "id": "3d579ca3",
   "metadata": {},
   "source": [
    "##### Analysing Test Data"
   ]
  },
  {
   "cell_type": "markdown",
   "id": "8ec32ff1",
   "metadata": {},
   "source": [
    "#### As we have 40 input in our layer, we will concatenate our train and test and will take last 40 values of our training set with test set"
   ]
  },
  {
   "cell_type": "code",
   "execution_count": 73,
   "id": "9e5b3d51",
   "metadata": {},
   "outputs": [
    {
     "data": {
      "text/html": [
       "<div>\n",
       "<style scoped>\n",
       "    .dataframe tbody tr th:only-of-type {\n",
       "        vertical-align: middle;\n",
       "    }\n",
       "\n",
       "    .dataframe tbody tr th {\n",
       "        vertical-align: top;\n",
       "    }\n",
       "\n",
       "    .dataframe thead th {\n",
       "        text-align: right;\n",
       "    }\n",
       "</style>\n",
       "<table border=\"1\" class=\"dataframe\">\n",
       "  <thead>\n",
       "    <tr style=\"text-align: right;\">\n",
       "      <th></th>\n",
       "      <th>Close</th>\n",
       "      <th>predicted_value</th>\n",
       "    </tr>\n",
       "    <tr>\n",
       "      <th>Date</th>\n",
       "      <th></th>\n",
       "      <th></th>\n",
       "    </tr>\n",
       "  </thead>\n",
       "  <tbody>\n",
       "    <tr>\n",
       "      <th>2017-01-03</th>\n",
       "      <td>786.14</td>\n",
       "      <td>780.483704</td>\n",
       "    </tr>\n",
       "    <tr>\n",
       "      <th>2017-01-04</th>\n",
       "      <td>786.90</td>\n",
       "      <td>778.181213</td>\n",
       "    </tr>\n",
       "    <tr>\n",
       "      <th>2017-01-05</th>\n",
       "      <td>794.02</td>\n",
       "      <td>777.960266</td>\n",
       "    </tr>\n",
       "    <tr>\n",
       "      <th>2017-01-06</th>\n",
       "      <td>806.15</td>\n",
       "      <td>779.170227</td>\n",
       "    </tr>\n",
       "    <tr>\n",
       "      <th>2017-01-09</th>\n",
       "      <td>806.65</td>\n",
       "      <td>782.075745</td>\n",
       "    </tr>\n",
       "  </tbody>\n",
       "</table>\n",
       "</div>"
      ],
      "text/plain": [
       "             Close  predicted_value\n",
       "Date                               \n",
       "2017-01-03  786.14       780.483704\n",
       "2017-01-04  786.90       778.181213\n",
       "2017-01-05  794.02       777.960266\n",
       "2017-01-06  806.15       779.170227\n",
       "2017-01-09  806.65       782.075745"
      ]
     },
     "execution_count": 73,
     "metadata": {},
     "output_type": "execute_result"
    }
   ],
   "source": [
    "## Checkingbthe test data\n",
    "data_test.head()"
   ]
  },
  {
   "cell_type": "code",
   "execution_count": 74,
   "id": "f5a9a7aa",
   "metadata": {},
   "outputs": [
    {
     "name": "stdout",
     "output_type": "stream",
     "text": [
      "<class 'pandas.core.frame.DataFrame'>\n",
      "DatetimeIndex: 20 entries, 2017-01-03 to 2017-01-31\n",
      "Data columns (total 2 columns):\n",
      " #   Column           Non-Null Count  Dtype  \n",
      "---  ------           --------------  -----  \n",
      " 0   Close            20 non-null     float64\n",
      " 1   predicted_value  20 non-null     float32\n",
      "dtypes: float32(1), float64(1)\n",
      "memory usage: 400.0 bytes\n"
     ]
    }
   ],
   "source": [
    "##vChecking the info of data i.e. datatype\n",
    "data_test.info()"
   ]
  },
  {
   "cell_type": "code",
   "execution_count": 75,
   "id": "ed4feece",
   "metadata": {},
   "outputs": [
    {
     "data": {
      "text/plain": [
       "(20, 2)"
      ]
     },
     "execution_count": 75,
     "metadata": {},
     "output_type": "execute_result"
    }
   ],
   "source": [
    "## Checking the shape of Test DataSet\n",
    "data_test.shape"
   ]
  },
  {
   "cell_type": "markdown",
   "id": "fcb303b2",
   "metadata": {},
   "source": [
    "## Taking Closing Price of Stocks"
   ]
  },
  {
   "cell_type": "code",
   "execution_count": 100,
   "id": "482419ef",
   "metadata": {},
   "outputs": [],
   "source": [
    "data_test= data_test[['Close']]"
   ]
  },
  {
   "cell_type": "code",
   "execution_count": 101,
   "id": "ee9c2f78",
   "metadata": {},
   "outputs": [
    {
     "data": {
      "text/html": [
       "<div>\n",
       "<style scoped>\n",
       "    .dataframe tbody tr th:only-of-type {\n",
       "        vertical-align: middle;\n",
       "    }\n",
       "\n",
       "    .dataframe tbody tr th {\n",
       "        vertical-align: top;\n",
       "    }\n",
       "\n",
       "    .dataframe thead th {\n",
       "        text-align: right;\n",
       "    }\n",
       "</style>\n",
       "<table border=\"1\" class=\"dataframe\">\n",
       "  <thead>\n",
       "    <tr style=\"text-align: right;\">\n",
       "      <th></th>\n",
       "      <th>Close</th>\n",
       "    </tr>\n",
       "    <tr>\n",
       "      <th>Date</th>\n",
       "      <th></th>\n",
       "    </tr>\n",
       "  </thead>\n",
       "  <tbody>\n",
       "    <tr>\n",
       "      <th>2017-01-03</th>\n",
       "      <td>786.14</td>\n",
       "    </tr>\n",
       "    <tr>\n",
       "      <th>2017-01-04</th>\n",
       "      <td>786.90</td>\n",
       "    </tr>\n",
       "    <tr>\n",
       "      <th>2017-01-05</th>\n",
       "      <td>794.02</td>\n",
       "    </tr>\n",
       "    <tr>\n",
       "      <th>2017-01-06</th>\n",
       "      <td>806.15</td>\n",
       "    </tr>\n",
       "    <tr>\n",
       "      <th>2017-01-09</th>\n",
       "      <td>806.65</td>\n",
       "    </tr>\n",
       "  </tbody>\n",
       "</table>\n",
       "</div>"
      ],
      "text/plain": [
       "             Close\n",
       "Date              \n",
       "2017-01-03  786.14\n",
       "2017-01-04  786.90\n",
       "2017-01-05  794.02\n",
       "2017-01-06  806.15\n",
       "2017-01-09  806.65"
      ]
     },
     "execution_count": 101,
     "metadata": {},
     "output_type": "execute_result"
    }
   ],
   "source": [
    "data_test.head()"
   ]
  },
  {
   "cell_type": "markdown",
   "id": "9a79bdd2",
   "metadata": {},
   "source": [
    "#### Plotting the Closing Price"
   ]
  },
  {
   "cell_type": "code",
   "execution_count": 102,
   "id": "eccbb49f",
   "metadata": {},
   "outputs": [
    {
     "data": {
      "text/plain": [
       "<AxesSubplot:xlabel='Date'>"
      ]
     },
     "execution_count": 102,
     "metadata": {},
     "output_type": "execute_result"
    },
    {
     "data": {
      "image/png": "[encoded data removed]",
      "text/plain": [
       "<Figure size 432x288 with 1 Axes>"
      ]
     },
     "metadata": {
      "needs_background": "light"
     },
     "output_type": "display_data"
    }
   ],
   "source": [
    "## Graph for closeing feature\n",
    "data_test.plot()"
   ]
  },
  {
   "cell_type": "markdown",
   "id": "b100370d",
   "metadata": {},
   "source": [
    "#### Concating train and test and then will take last 40 train point"
   ]
  },
  {
   "cell_type": "code",
   "execution_count": 103,
   "id": "2cbfe95e",
   "metadata": {},
   "outputs": [
    {
     "data": {
      "text/plain": [
       "(1278,)"
      ]
     },
     "execution_count": 103,
     "metadata": {},
     "output_type": "execute_result"
    }
   ],
   "source": [
    "total= pd.concat([trained_data['Close'], data_test['Close']], axis= 0)\n",
    "total.shape"
   ]
  },
  {
   "cell_type": "code",
   "execution_count": 104,
   "id": "1888d884",
   "metadata": {},
   "outputs": [
    {
     "data": {
      "text/plain": [
       "array([762.13, 762.02, 782.52, 790.51, 785.31, 762.56, 754.02, 736.08,\n",
       "       758.49, 764.48, 771.23, 760.54, 769.2 , 768.27, 760.99, 761.68,\n",
       "       768.24, 770.84, 758.04, 747.92, 750.5 , 762.52, 759.11, 771.19,\n",
       "       776.42, 789.29, 789.27, 796.1 , 797.07, 797.85, 790.8 , 794.2 ,\n",
       "       796.42, 794.56, 791.26, 789.91, 791.55, 785.05, 782.79, 771.82,\n",
       "       786.14, 786.9 , 794.02, 806.15, 806.65, 804.79, 807.91, 806.36,\n",
       "       807.88, 804.61, 806.07, 802.17, 805.02, 819.31, 823.87, 835.67,\n",
       "       832.15, 823.31, 802.32, 796.79])"
      ]
     },
     "execution_count": 104,
     "metadata": {},
     "output_type": "execute_result"
    }
   ],
   "source": [
    "## Creating new dataframe\n",
    "data_test1= total[len(total)- len(data_test)-40:].values\n",
    "data_test1"
   ]
  },
  {
   "cell_type": "code",
   "execution_count": 105,
   "id": "dd68a7d7",
   "metadata": {},
   "outputs": [
    {
     "data": {
      "text/plain": [
       "array([736.08])"
      ]
     },
     "execution_count": 105,
     "metadata": {},
     "output_type": "execute_result"
    }
   ],
   "source": [
    "## reshaping it to get it transformed\n",
    "data_test1= data_test1.reshape(-1,1)\n",
    "data_test1[7]"
   ]
  },
  {
   "cell_type": "code",
   "execution_count": 106,
   "id": "62a8ed52",
   "metadata": {},
   "outputs": [
    {
     "data": {
      "text/plain": [
       "835.67"
      ]
     },
     "execution_count": 106,
     "metadata": {},
     "output_type": "execute_result"
    }
   ],
   "source": [
    "## Checking the max value\n",
    "data_test1.max()"
   ]
  },
  {
   "cell_type": "code",
   "execution_count": 107,
   "id": "2a343ce5",
   "metadata": {},
   "outputs": [
    {
     "data": {
      "text/plain": [
       "array([[0.26157245],\n",
       "       [0.26046792],\n",
       "       [0.46631188],\n",
       "       [0.54654082],\n",
       "       [0.49432674],\n",
       "       [0.26589015],\n",
       "       [0.18013857],\n",
       "       [0.        ],\n",
       "       [0.22502259],\n",
       "       [0.28516919],\n",
       "       [0.35294708],\n",
       "       [0.24560699],\n",
       "       [0.33256351],\n",
       "       [0.32322522],\n",
       "       [0.25012551],\n",
       "       [0.25705392],\n",
       "       [0.32292399],\n",
       "       [0.34903103],\n",
       "       [0.22050407],\n",
       "       [0.11888744],\n",
       "       [0.14479365],\n",
       "       [0.2654885 ],\n",
       "       [0.23124812],\n",
       "       [0.35254544],\n",
       "       [0.40506075],\n",
       "       [0.53429059],\n",
       "       [0.53408977],\n",
       "       [0.60267095],\n",
       "       [0.61241088],\n",
       "       [0.620243  ],\n",
       "       [0.54945276],\n",
       "       [0.58359273],\n",
       "       [0.60588412],\n",
       "       [0.58720755],\n",
       "       [0.55407169],\n",
       "       [0.54051612],\n",
       "       [0.55698363],\n",
       "       [0.49171604],\n",
       "       [0.46902299],\n",
       "       [0.35887137],\n",
       "       [0.50266091],\n",
       "       [0.5102922 ],\n",
       "       [0.58178532],\n",
       "       [0.7035847 ],\n",
       "       [0.70860528],\n",
       "       [0.68992871],\n",
       "       [0.72125715],\n",
       "       [0.70569334],\n",
       "       [0.72095592],\n",
       "       [0.6881213 ],\n",
       "       [0.7027814 ],\n",
       "       [0.66362085],\n",
       "       [0.69223818],\n",
       "       [0.83572648],\n",
       "       [0.88151421],\n",
       "       [1.        ],\n",
       "       [0.96465509],\n",
       "       [0.87589115],\n",
       "       [0.66512702],\n",
       "       [0.60959936]])"
      ]
     },
     "execution_count": 107,
     "metadata": {},
     "output_type": "execute_result"
    }
   ],
   "source": [
    "## Fitting the data\n",
    "test_input= scaler.fit_transform(data_test1)\n",
    "test_input"
   ]
  },
  {
   "cell_type": "code",
   "execution_count": 108,
   "id": "01c51110",
   "metadata": {},
   "outputs": [
    {
     "data": {
      "text/plain": [
       "1.0"
      ]
     },
     "execution_count": 108,
     "metadata": {},
     "output_type": "execute_result"
    }
   ],
   "source": [
    "test_input.max()"
   ]
  },
  {
   "cell_type": "markdown",
   "id": "76436adf",
   "metadata": {},
   "source": [
    "### Creating the input for LSTM Prediction"
   ]
  },
  {
   "cell_type": "code",
   "execution_count": 109,
   "id": "e6e11d75",
   "metadata": {},
   "outputs": [],
   "source": [
    "x_test= []\n",
    "for i in range(40,60):\n",
    "  x_test.append(test_input[i-40:i, 0])"
   ]
  },
  {
   "cell_type": "code",
   "execution_count": 110,
   "id": "158d6ecc",
   "metadata": {},
   "outputs": [],
   "source": [
    "x_test= np.array(x_test)"
   ]
  },
  {
   "cell_type": "markdown",
   "id": "0867da70",
   "metadata": {},
   "source": [
    "### Reshaping the input for LSTM prediction"
   ]
  },
  {
   "cell_type": "code",
   "execution_count": 111,
   "id": "81c23a8e",
   "metadata": {},
   "outputs": [
    {
     "data": {
      "text/plain": [
       "array([[[0.26157245],\n",
       "        [0.26046792],\n",
       "        [0.46631188],\n",
       "        [0.54654082],\n",
       "        [0.49432674],\n",
       "        [0.26589015],\n",
       "        [0.18013857],\n",
       "        [0.        ],\n",
       "        [0.22502259],\n",
       "        [0.28516919],\n",
       "        [0.35294708],\n",
       "        [0.24560699],\n",
       "        [0.33256351],\n",
       "        [0.32322522],\n",
       "        [0.25012551],\n",
       "        [0.25705392],\n",
       "        [0.32292399],\n",
       "        [0.34903103],\n",
       "        [0.22050407],\n",
       "        [0.11888744],\n",
       "        [0.14479365],\n",
       "        [0.2654885 ],\n",
       "        [0.23124812],\n",
       "        [0.35254544],\n",
       "        [0.40506075],\n",
       "        [0.53429059],\n",
       "        [0.53408977],\n",
       "        [0.60267095],\n",
       "        [0.61241088],\n",
       "        [0.620243  ],\n",
       "        [0.54945276],\n",
       "        [0.58359273],\n",
       "        [0.60588412],\n",
       "        [0.58720755],\n",
       "        [0.55407169],\n",
       "        [0.54051612],\n",
       "        [0.55698363],\n",
       "        [0.49171604],\n",
       "        [0.46902299],\n",
       "        [0.35887137]],\n",
       "\n",
       "       [[0.26046792],\n",
       "        [0.46631188],\n",
       "        [0.54654082],\n",
       "        [0.49432674],\n",
       "        [0.26589015],\n",
       "        [0.18013857],\n",
       "        [0.        ],\n",
       "        [0.22502259],\n",
       "        [0.28516919],\n",
       "        [0.35294708],\n",
       "        [0.24560699],\n",
       "        [0.33256351],\n",
       "        [0.32322522],\n",
       "        [0.25012551],\n",
       "        [0.25705392],\n",
       "        [0.32292399],\n",
       "        [0.34903103],\n",
       "        [0.22050407],\n",
       "        [0.11888744],\n",
       "        [0.14479365],\n",
       "        [0.2654885 ],\n",
       "        [0.23124812],\n",
       "        [0.35254544],\n",
       "        [0.40506075],\n",
       "        [0.53429059],\n",
       "        [0.53408977],\n",
       "        [0.60267095],\n",
       "        [0.61241088],\n",
       "        [0.620243  ],\n",
       "        [0.54945276],\n",
       "        [0.58359273],\n",
       "        [0.60588412],\n",
       "        [0.58720755],\n",
       "        [0.55407169],\n",
       "        [0.54051612],\n",
       "        [0.55698363],\n",
       "        [0.49171604],\n",
       "        [0.46902299],\n",
       "        [0.35887137],\n",
       "        [0.50266091]],\n",
       "\n",
       "       [[0.46631188],\n",
       "        [0.54654082],\n",
       "        [0.49432674],\n",
       "        [0.26589015],\n",
       "        [0.18013857],\n",
       "        [0.        ],\n",
       "        [0.22502259],\n",
       "        [0.28516919],\n",
       "        [0.35294708],\n",
       "        [0.24560699],\n",
       "        [0.33256351],\n",
       "        [0.32322522],\n",
       "        [0.25012551],\n",
       "        [0.25705392],\n",
       "        [0.32292399],\n",
       "        [0.34903103],\n",
       "        [0.22050407],\n",
       "        [0.11888744],\n",
       "        [0.14479365],\n",
       "        [0.2654885 ],\n",
       "        [0.23124812],\n",
       "        [0.35254544],\n",
       "        [0.40506075],\n",
       "        [0.53429059],\n",
       "        [0.53408977],\n",
       "        [0.60267095],\n",
       "        [0.61241088],\n",
       "        [0.620243  ],\n",
       "        [0.54945276],\n",
       "        [0.58359273],\n",
       "        [0.60588412],\n",
       "        [0.58720755],\n",
       "        [0.55407169],\n",
       "        [0.54051612],\n",
       "        [0.55698363],\n",
       "        [0.49171604],\n",
       "        [0.46902299],\n",
       "        [0.35887137],\n",
       "        [0.50266091],\n",
       "        [0.5102922 ]],\n",
       "\n",
       "       [[0.54654082],\n",
       "        [0.49432674],\n",
       "        [0.26589015],\n",
       "        [0.18013857],\n",
       "        [0.        ],\n",
       "        [0.22502259],\n",
       "        [0.28516919],\n",
       "        [0.35294708],\n",
       "        [0.24560699],\n",
       "        [0.33256351],\n",
       "        [0.32322522],\n",
       "        [0.25012551],\n",
       "        [0.25705392],\n",
       "        [0.32292399],\n",
       "        [0.34903103],\n",
       "        [0.22050407],\n",
       "        [0.11888744],\n",
       "        [0.14479365],\n",
       "        [0.2654885 ],\n",
       "        [0.23124812],\n",
       "        [0.35254544],\n",
       "        [0.40506075],\n",
       "        [0.53429059],\n",
       "        [0.53408977],\n",
       "        [0.60267095],\n",
       "        [0.61241088],\n",
       "        [0.620243  ],\n",
       "        [0.54945276],\n",
       "        [0.58359273],\n",
       "        [0.60588412],\n",
       "        [0.58720755],\n",
       "        [0.55407169],\n",
       "        [0.54051612],\n",
       "        [0.55698363],\n",
       "        [0.49171604],\n",
       "        [0.46902299],\n",
       "        [0.35887137],\n",
       "        [0.50266091],\n",
       "        [0.5102922 ],\n",
       "        [0.58178532]],\n",
       "\n",
       "       [[0.49432674],\n",
       "        [0.26589015],\n",
       "        [0.18013857],\n",
       "        [0.        ],\n",
       "        [0.22502259],\n",
       "        [0.28516919],\n",
       "        [0.35294708],\n",
       "        [0.24560699],\n",
       "        [0.33256351],\n",
       "        [0.32322522],\n",
       "        [0.25012551],\n",
       "        [0.25705392],\n",
       "        [0.32292399],\n",
       "        [0.34903103],\n",
       "        [0.22050407],\n",
       "        [0.11888744],\n",
       "        [0.14479365],\n",
       "        [0.2654885 ],\n",
       "        [0.23124812],\n",
       "        [0.35254544],\n",
       "        [0.40506075],\n",
       "        [0.53429059],\n",
       "        [0.53408977],\n",
       "        [0.60267095],\n",
       "        [0.61241088],\n",
       "        [0.620243  ],\n",
       "        [0.54945276],\n",
       "        [0.58359273],\n",
       "        [0.60588412],\n",
       "        [0.58720755],\n",
       "        [0.55407169],\n",
       "        [0.54051612],\n",
       "        [0.55698363],\n",
       "        [0.49171604],\n",
       "        [0.46902299],\n",
       "        [0.35887137],\n",
       "        [0.50266091],\n",
       "        [0.5102922 ],\n",
       "        [0.58178532],\n",
       "        [0.7035847 ]],\n",
       "\n",
       "       [[0.26589015],\n",
       "        [0.18013857],\n",
       "        [0.        ],\n",
       "        [0.22502259],\n",
       "        [0.28516919],\n",
       "        [0.35294708],\n",
       "        [0.24560699],\n",
       "        [0.33256351],\n",
       "        [0.32322522],\n",
       "        [0.25012551],\n",
       "        [0.25705392],\n",
       "        [0.32292399],\n",
       "        [0.34903103],\n",
       "        [0.22050407],\n",
       "        [0.11888744],\n",
       "        [0.14479365],\n",
       "        [0.2654885 ],\n",
       "        [0.23124812],\n",
       "        [0.35254544],\n",
       "        [0.40506075],\n",
       "        [0.53429059],\n",
       "        [0.53408977],\n",
       "        [0.60267095],\n",
       "        [0.61241088],\n",
       "        [0.620243  ],\n",
       "        [0.54945276],\n",
       "        [0.58359273],\n",
       "        [0.60588412],\n",
       "        [0.58720755],\n",
       "        [0.55407169],\n",
       "        [0.54051612],\n",
       "        [0.55698363],\n",
       "        [0.49171604],\n",
       "        [0.46902299],\n",
       "        [0.35887137],\n",
       "        [0.50266091],\n",
       "        [0.5102922 ],\n",
       "        [0.58178532],\n",
       "        [0.7035847 ],\n",
       "        [0.70860528]],\n",
       "\n",
       "       [[0.18013857],\n",
       "        [0.        ],\n",
       "        [0.22502259],\n",
       "        [0.28516919],\n",
       "        [0.35294708],\n",
       "        [0.24560699],\n",
       "        [0.33256351],\n",
       "        [0.32322522],\n",
       "        [0.25012551],\n",
       "        [0.25705392],\n",
       "        [0.32292399],\n",
       "        [0.34903103],\n",
       "        [0.22050407],\n",
       "        [0.11888744],\n",
       "        [0.14479365],\n",
       "        [0.2654885 ],\n",
       "        [0.23124812],\n",
       "        [0.35254544],\n",
       "        [0.40506075],\n",
       "        [0.53429059],\n",
       "        [0.53408977],\n",
       "        [0.60267095],\n",
       "        [0.61241088],\n",
       "        [0.620243  ],\n",
       "        [0.54945276],\n",
       "        [0.58359273],\n",
       "        [0.60588412],\n",
       "        [0.58720755],\n",
       "        [0.55407169],\n",
       "        [0.54051612],\n",
       "        [0.55698363],\n",
       "        [0.49171604],\n",
       "        [0.46902299],\n",
       "        [0.35887137],\n",
       "        [0.50266091],\n",
       "        [0.5102922 ],\n",
       "        [0.58178532],\n",
       "        [0.7035847 ],\n",
       "        [0.70860528],\n",
       "        [0.68992871]],\n",
       "\n",
       "       [[0.        ],\n",
       "        [0.22502259],\n",
       "        [0.28516919],\n",
       "        [0.35294708],\n",
       "        [0.24560699],\n",
       "        [0.33256351],\n",
       "        [0.32322522],\n",
       "        [0.25012551],\n",
       "        [0.25705392],\n",
       "        [0.32292399],\n",
       "        [0.34903103],\n",
       "        [0.22050407],\n",
       "        [0.11888744],\n",
       "        [0.14479365],\n",
       "        [0.2654885 ],\n",
       "        [0.23124812],\n",
       "        [0.35254544],\n",
       "        [0.40506075],\n",
       "        [0.53429059],\n",
       "        [0.53408977],\n",
       "        [0.60267095],\n",
       "        [0.61241088],\n",
       "        [0.620243  ],\n",
       "        [0.54945276],\n",
       "        [0.58359273],\n",
       "        [0.60588412],\n",
       "        [0.58720755],\n",
       "        [0.55407169],\n",
       "        [0.54051612],\n",
       "        [0.55698363],\n",
       "        [0.49171604],\n",
       "        [0.46902299],\n",
       "        [0.35887137],\n",
       "        [0.50266091],\n",
       "        [0.5102922 ],\n",
       "        [0.58178532],\n",
       "        [0.7035847 ],\n",
       "        [0.70860528],\n",
       "        [0.68992871],\n",
       "        [0.72125715]],\n",
       "\n",
       "       [[0.22502259],\n",
       "        [0.28516919],\n",
       "        [0.35294708],\n",
       "        [0.24560699],\n",
       "        [0.33256351],\n",
       "        [0.32322522],\n",
       "        [0.25012551],\n",
       "        [0.25705392],\n",
       "        [0.32292399],\n",
       "        [0.34903103],\n",
       "        [0.22050407],\n",
       "        [0.11888744],\n",
       "        [0.14479365],\n",
       "        [0.2654885 ],\n",
       "        [0.23124812],\n",
       "        [0.35254544],\n",
       "        [0.40506075],\n",
       "        [0.53429059],\n",
       "        [0.53408977],\n",
       "        [0.60267095],\n",
       "        [0.61241088],\n",
       "        [0.620243  ],\n",
       "        [0.54945276],\n",
       "        [0.58359273],\n",
       "        [0.60588412],\n",
       "        [0.58720755],\n",
       "        [0.55407169],\n",
       "        [0.54051612],\n",
       "        [0.55698363],\n",
       "        [0.49171604],\n",
       "        [0.46902299],\n",
       "        [0.35887137],\n",
       "        [0.50266091],\n",
       "        [0.5102922 ],\n",
       "        [0.58178532],\n",
       "        [0.7035847 ],\n",
       "        [0.70860528],\n",
       "        [0.68992871],\n",
       "        [0.72125715],\n",
       "        [0.70569334]],\n",
       "\n",
       "       [[0.28516919],\n",
       "        [0.35294708],\n",
       "        [0.24560699],\n",
       "        [0.33256351],\n",
       "        [0.32322522],\n",
       "        [0.25012551],\n",
       "        [0.25705392],\n",
       "        [0.32292399],\n",
       "        [0.34903103],\n",
       "        [0.22050407],\n",
       "        [0.11888744],\n",
       "        [0.14479365],\n",
       "        [0.2654885 ],\n",
       "        [0.23124812],\n",
       "        [0.35254544],\n",
       "        [0.40506075],\n",
       "        [0.53429059],\n",
       "        [0.53408977],\n",
       "        [0.60267095],\n",
       "        [0.61241088],\n",
       "        [0.620243  ],\n",
       "        [0.54945276],\n",
       "        [0.58359273],\n",
       "        [0.60588412],\n",
       "        [0.58720755],\n",
       "        [0.55407169],\n",
       "        [0.54051612],\n",
       "        [0.55698363],\n",
       "        [0.49171604],\n",
       "        [0.46902299],\n",
       "        [0.35887137],\n",
       "        [0.50266091],\n",
       "        [0.5102922 ],\n",
       "        [0.58178532],\n",
       "        [0.7035847 ],\n",
       "        [0.70860528],\n",
       "        [0.68992871],\n",
       "        [0.72125715],\n",
       "        [0.70569334],\n",
       "        [0.72095592]],\n",
       "\n",
       "       [[0.35294708],\n",
       "        [0.24560699],\n",
       "        [0.33256351],\n",
       "        [0.32322522],\n",
       "        [0.25012551],\n",
       "        [0.25705392],\n",
       "        [0.32292399],\n",
       "        [0.34903103],\n",
       "        [0.22050407],\n",
       "        [0.11888744],\n",
       "        [0.14479365],\n",
       "        [0.2654885 ],\n",
       "        [0.23124812],\n",
       "        [0.35254544],\n",
       "        [0.40506075],\n",
       "        [0.53429059],\n",
       "        [0.53408977],\n",
       "        [0.60267095],\n",
       "        [0.61241088],\n",
       "        [0.620243  ],\n",
       "        [0.54945276],\n",
       "        [0.58359273],\n",
       "        [0.60588412],\n",
       "        [0.58720755],\n",
       "        [0.55407169],\n",
       "        [0.54051612],\n",
       "        [0.55698363],\n",
       "        [0.49171604],\n",
       "        [0.46902299],\n",
       "        [0.35887137],\n",
       "        [0.50266091],\n",
       "        [0.5102922 ],\n",
       "        [0.58178532],\n",
       "        [0.7035847 ],\n",
       "        [0.70860528],\n",
       "        [0.68992871],\n",
       "        [0.72125715],\n",
       "        [0.70569334],\n",
       "        [0.72095592],\n",
       "        [0.6881213 ]],\n",
       "\n",
       "       [[0.24560699],\n",
       "        [0.33256351],\n",
       "        [0.32322522],\n",
       "        [0.25012551],\n",
       "        [0.25705392],\n",
       "        [0.32292399],\n",
       "        [0.34903103],\n",
       "        [0.22050407],\n",
       "        [0.11888744],\n",
       "        [0.14479365],\n",
       "        [0.2654885 ],\n",
       "        [0.23124812],\n",
       "        [0.35254544],\n",
       "        [0.40506075],\n",
       "        [0.53429059],\n",
       "        [0.53408977],\n",
       "        [0.60267095],\n",
       "        [0.61241088],\n",
       "        [0.620243  ],\n",
       "        [0.54945276],\n",
       "        [0.58359273],\n",
       "        [0.60588412],\n",
       "        [0.58720755],\n",
       "        [0.55407169],\n",
       "        [0.54051612],\n",
       "        [0.55698363],\n",
       "        [0.49171604],\n",
       "        [0.46902299],\n",
       "        [0.35887137],\n",
       "        [0.50266091],\n",
       "        [0.5102922 ],\n",
       "        [0.58178532],\n",
       "        [0.7035847 ],\n",
       "        [0.70860528],\n",
       "        [0.68992871],\n",
       "        [0.72125715],\n",
       "        [0.70569334],\n",
       "        [0.72095592],\n",
       "        [0.6881213 ],\n",
       "        [0.7027814 ]],\n",
       "\n",
       "       [[0.33256351],\n",
       "        [0.32322522],\n",
       "        [0.25012551],\n",
       "        [0.25705392],\n",
       "        [0.32292399],\n",
       "        [0.34903103],\n",
       "        [0.22050407],\n",
       "        [0.11888744],\n",
       "        [0.14479365],\n",
       "        [0.2654885 ],\n",
       "        [0.23124812],\n",
       "        [0.35254544],\n",
       "        [0.40506075],\n",
       "        [0.53429059],\n",
       "        [0.53408977],\n",
       "        [0.60267095],\n",
       "        [0.61241088],\n",
       "        [0.620243  ],\n",
       "        [0.54945276],\n",
       "        [0.58359273],\n",
       "        [0.60588412],\n",
       "        [0.58720755],\n",
       "        [0.55407169],\n",
       "        [0.54051612],\n",
       "        [0.55698363],\n",
       "        [0.49171604],\n",
       "        [0.46902299],\n",
       "        [0.35887137],\n",
       "        [0.50266091],\n",
       "        [0.5102922 ],\n",
       "        [0.58178532],\n",
       "        [0.7035847 ],\n",
       "        [0.70860528],\n",
       "        [0.68992871],\n",
       "        [0.72125715],\n",
       "        [0.70569334],\n",
       "        [0.72095592],\n",
       "        [0.6881213 ],\n",
       "        [0.7027814 ],\n",
       "        [0.66362085]],\n",
       "\n",
       "       [[0.32322522],\n",
       "        [0.25012551],\n",
       "        [0.25705392],\n",
       "        [0.32292399],\n",
       "        [0.34903103],\n",
       "        [0.22050407],\n",
       "        [0.11888744],\n",
       "        [0.14479365],\n",
       "        [0.2654885 ],\n",
       "        [0.23124812],\n",
       "        [0.35254544],\n",
       "        [0.40506075],\n",
       "        [0.53429059],\n",
       "        [0.53408977],\n",
       "        [0.60267095],\n",
       "        [0.61241088],\n",
       "        [0.620243  ],\n",
       "        [0.54945276],\n",
       "        [0.58359273],\n",
       "        [0.60588412],\n",
       "        [0.58720755],\n",
       "        [0.55407169],\n",
       "        [0.54051612],\n",
       "        [0.55698363],\n",
       "        [0.49171604],\n",
       "        [0.46902299],\n",
       "        [0.35887137],\n",
       "        [0.50266091],\n",
       "        [0.5102922 ],\n",
       "        [0.58178532],\n",
       "        [0.7035847 ],\n",
       "        [0.70860528],\n",
       "        [0.68992871],\n",
       "        [0.72125715],\n",
       "        [0.70569334],\n",
       "        [0.72095592],\n",
       "        [0.6881213 ],\n",
       "        [0.7027814 ],\n",
       "        [0.66362085],\n",
       "        [0.69223818]],\n",
       "\n",
       "       [[0.25012551],\n",
       "        [0.25705392],\n",
       "        [0.32292399],\n",
       "        [0.34903103],\n",
       "        [0.22050407],\n",
       "        [0.11888744],\n",
       "        [0.14479365],\n",
       "        [0.2654885 ],\n",
       "        [0.23124812],\n",
       "        [0.35254544],\n",
       "        [0.40506075],\n",
       "        [0.53429059],\n",
       "        [0.53408977],\n",
       "        [0.60267095],\n",
       "        [0.61241088],\n",
       "        [0.620243  ],\n",
       "        [0.54945276],\n",
       "        [0.58359273],\n",
       "        [0.60588412],\n",
       "        [0.58720755],\n",
       "        [0.55407169],\n",
       "        [0.54051612],\n",
       "        [0.55698363],\n",
       "        [0.49171604],\n",
       "        [0.46902299],\n",
       "        [0.35887137],\n",
       "        [0.50266091],\n",
       "        [0.5102922 ],\n",
       "        [0.58178532],\n",
       "        [0.7035847 ],\n",
       "        [0.70860528],\n",
       "        [0.68992871],\n",
       "        [0.72125715],\n",
       "        [0.70569334],\n",
       "        [0.72095592],\n",
       "        [0.6881213 ],\n",
       "        [0.7027814 ],\n",
       "        [0.66362085],\n",
       "        [0.69223818],\n",
       "        [0.83572648]],\n",
       "\n",
       "       [[0.25705392],\n",
       "        [0.32292399],\n",
       "        [0.34903103],\n",
       "        [0.22050407],\n",
       "        [0.11888744],\n",
       "        [0.14479365],\n",
       "        [0.2654885 ],\n",
       "        [0.23124812],\n",
       "        [0.35254544],\n",
       "        [0.40506075],\n",
       "        [0.53429059],\n",
       "        [0.53408977],\n",
       "        [0.60267095],\n",
       "        [0.61241088],\n",
       "        [0.620243  ],\n",
       "        [0.54945276],\n",
       "        [0.58359273],\n",
       "        [0.60588412],\n",
       "        [0.58720755],\n",
       "        [0.55407169],\n",
       "        [0.54051612],\n",
       "        [0.55698363],\n",
       "        [0.49171604],\n",
       "        [0.46902299],\n",
       "        [0.35887137],\n",
       "        [0.50266091],\n",
       "        [0.5102922 ],\n",
       "        [0.58178532],\n",
       "        [0.7035847 ],\n",
       "        [0.70860528],\n",
       "        [0.68992871],\n",
       "        [0.72125715],\n",
       "        [0.70569334],\n",
       "        [0.72095592],\n",
       "        [0.6881213 ],\n",
       "        [0.7027814 ],\n",
       "        [0.66362085],\n",
       "        [0.69223818],\n",
       "        [0.83572648],\n",
       "        [0.88151421]],\n",
       "\n",
       "       [[0.32292399],\n",
       "        [0.34903103],\n",
       "        [0.22050407],\n",
       "        [0.11888744],\n",
       "        [0.14479365],\n",
       "        [0.2654885 ],\n",
       "        [0.23124812],\n",
       "        [0.35254544],\n",
       "        [0.40506075],\n",
       "        [0.53429059],\n",
       "        [0.53408977],\n",
       "        [0.60267095],\n",
       "        [0.61241088],\n",
       "        [0.620243  ],\n",
       "        [0.54945276],\n",
       "        [0.58359273],\n",
       "        [0.60588412],\n",
       "        [0.58720755],\n",
       "        [0.55407169],\n",
       "        [0.54051612],\n",
       "        [0.55698363],\n",
       "        [0.49171604],\n",
       "        [0.46902299],\n",
       "        [0.35887137],\n",
       "        [0.50266091],\n",
       "        [0.5102922 ],\n",
       "        [0.58178532],\n",
       "        [0.7035847 ],\n",
       "        [0.70860528],\n",
       "        [0.68992871],\n",
       "        [0.72125715],\n",
       "        [0.70569334],\n",
       "        [0.72095592],\n",
       "        [0.6881213 ],\n",
       "        [0.7027814 ],\n",
       "        [0.66362085],\n",
       "        [0.69223818],\n",
       "        [0.83572648],\n",
       "        [0.88151421],\n",
       "        [1.        ]],\n",
       "\n",
       "       [[0.34903103],\n",
       "        [0.22050407],\n",
       "        [0.11888744],\n",
       "        [0.14479365],\n",
       "        [0.2654885 ],\n",
       "        [0.23124812],\n",
       "        [0.35254544],\n",
       "        [0.40506075],\n",
       "        [0.53429059],\n",
       "        [0.53408977],\n",
       "        [0.60267095],\n",
       "        [0.61241088],\n",
       "        [0.620243  ],\n",
       "        [0.54945276],\n",
       "        [0.58359273],\n",
       "        [0.60588412],\n",
       "        [0.58720755],\n",
       "        [0.55407169],\n",
       "        [0.54051612],\n",
       "        [0.55698363],\n",
       "        [0.49171604],\n",
       "        [0.46902299],\n",
       "        [0.35887137],\n",
       "        [0.50266091],\n",
       "        [0.5102922 ],\n",
       "        [0.58178532],\n",
       "        [0.7035847 ],\n",
       "        [0.70860528],\n",
       "        [0.68992871],\n",
       "        [0.72125715],\n",
       "        [0.70569334],\n",
       "        [0.72095592],\n",
       "        [0.6881213 ],\n",
       "        [0.7027814 ],\n",
       "        [0.66362085],\n",
       "        [0.69223818],\n",
       "        [0.83572648],\n",
       "        [0.88151421],\n",
       "        [1.        ],\n",
       "        [0.96465509]],\n",
       "\n",
       "       [[0.22050407],\n",
       "        [0.11888744],\n",
       "        [0.14479365],\n",
       "        [0.2654885 ],\n",
       "        [0.23124812],\n",
       "        [0.35254544],\n",
       "        [0.40506075],\n",
       "        [0.53429059],\n",
       "        [0.53408977],\n",
       "        [0.60267095],\n",
       "        [0.61241088],\n",
       "        [0.620243  ],\n",
       "        [0.54945276],\n",
       "        [0.58359273],\n",
       "        [0.60588412],\n",
       "        [0.58720755],\n",
       "        [0.55407169],\n",
       "        [0.54051612],\n",
       "        [0.55698363],\n",
       "        [0.49171604],\n",
       "        [0.46902299],\n",
       "        [0.35887137],\n",
       "        [0.50266091],\n",
       "        [0.5102922 ],\n",
       "        [0.58178532],\n",
       "        [0.7035847 ],\n",
       "        [0.70860528],\n",
       "        [0.68992871],\n",
       "        [0.72125715],\n",
       "        [0.70569334],\n",
       "        [0.72095592],\n",
       "        [0.6881213 ],\n",
       "        [0.7027814 ],\n",
       "        [0.66362085],\n",
       "        [0.69223818],\n",
       "        [0.83572648],\n",
       "        [0.88151421],\n",
       "        [1.        ],\n",
       "        [0.96465509],\n",
       "        [0.87589115]],\n",
       "\n",
       "       [[0.11888744],\n",
       "        [0.14479365],\n",
       "        [0.2654885 ],\n",
       "        [0.23124812],\n",
       "        [0.35254544],\n",
       "        [0.40506075],\n",
       "        [0.53429059],\n",
       "        [0.53408977],\n",
       "        [0.60267095],\n",
       "        [0.61241088],\n",
       "        [0.620243  ],\n",
       "        [0.54945276],\n",
       "        [0.58359273],\n",
       "        [0.60588412],\n",
       "        [0.58720755],\n",
       "        [0.55407169],\n",
       "        [0.54051612],\n",
       "        [0.55698363],\n",
       "        [0.49171604],\n",
       "        [0.46902299],\n",
       "        [0.35887137],\n",
       "        [0.50266091],\n",
       "        [0.5102922 ],\n",
       "        [0.58178532],\n",
       "        [0.7035847 ],\n",
       "        [0.70860528],\n",
       "        [0.68992871],\n",
       "        [0.72125715],\n",
       "        [0.70569334],\n",
       "        [0.72095592],\n",
       "        [0.6881213 ],\n",
       "        [0.7027814 ],\n",
       "        [0.66362085],\n",
       "        [0.69223818],\n",
       "        [0.83572648],\n",
       "        [0.88151421],\n",
       "        [1.        ],\n",
       "        [0.96465509],\n",
       "        [0.87589115],\n",
       "        [0.66512702]]])"
      ]
     },
     "execution_count": 111,
     "metadata": {},
     "output_type": "execute_result"
    }
   ],
   "source": [
    "## Reshaping and viewing the frame\n",
    "x_test= x_test.reshape(x_test.shape[0], x_test.shape[1], 1)\n",
    "x_test"
   ]
  },
  {
   "cell_type": "code",
   "execution_count": 112,
   "id": "5f6f2ff4",
   "metadata": {},
   "outputs": [
    {
     "data": {
      "text/plain": [
       "(20, 40, 1)"
      ]
     },
     "execution_count": 112,
     "metadata": {},
     "output_type": "execute_result"
    }
   ],
   "source": [
    "## Checking the shape \n",
    "x_test.shape"
   ]
  },
  {
   "cell_type": "markdown",
   "id": "c9457b36",
   "metadata": {},
   "source": [
    "### Predicting the closing Price of Stock using Test Data"
   ]
  },
  {
   "cell_type": "code",
   "execution_count": 67,
   "id": "b07962e6",
   "metadata": {},
   "outputs": [
    {
     "name": "stdout",
     "output_type": "stream",
     "text": [
      "1/1 [==============================] - 2s 2s/step\n"
     ]
    },
    {
     "data": {
      "text/plain": [
       "array([[0.4458649 ],\n",
       "       [0.42274547],\n",
       "       [0.42052692],\n",
       "       [0.4326763 ],\n",
       "       [0.46185094],\n",
       "       [0.5068078 ],\n",
       "       [0.55875516],\n",
       "       [0.60872006],\n",
       "       [0.6480217 ],\n",
       "       [0.6741489 ],\n",
       "       [0.6854774 ],\n",
       "       [0.6860205 ],\n",
       "       [0.6763077 ],\n",
       "       [0.66571105],\n",
       "       [0.6652427 ],\n",
       "       [0.68223095],\n",
       "       [0.7238709 ],\n",
       "       [0.7788155 ],\n",
       "       [0.8220452 ],\n",
       "       [0.80075336]], dtype=float32)"
      ]
     },
     "execution_count": 67,
     "metadata": {},
     "output_type": "execute_result"
    }
   ],
   "source": [
    "predicted_value= model.predict(x_test)\n",
    "predicted_value"
   ]
  },
  {
   "cell_type": "code",
   "execution_count": 79,
   "id": "2f49fd63",
   "metadata": {},
   "outputs": [
    {
     "data": {
      "text/plain": [
       "array([[78464.45 ],\n",
       "       [78235.15 ],\n",
       "       [78213.14 ],\n",
       "       [78333.64 ],\n",
       "       [78623.01 ],\n",
       "       [79068.9  ],\n",
       "       [79584.12 ],\n",
       "       [80079.68 ],\n",
       "       [80469.48 ],\n",
       "       [80728.61 ],\n",
       "       [80840.97 ],\n",
       "       [80846.35 ],\n",
       "       [80750.02 ],\n",
       "       [80644.914],\n",
       "       [80640.27 ],\n",
       "       [80808.766],\n",
       "       [81221.76 ],\n",
       "       [81766.71 ],\n",
       "       [82195.48 ],\n",
       "       [81984.3  ]], dtype=float32)"
      ]
     },
     "execution_count": 79,
     "metadata": {},
     "output_type": "execute_result"
    }
   ],
   "source": [
    "## transforming the predicted value in inverse form\n",
    "predicted_value= scaler.inverse_transform(predicted_value)\n",
    "predicted_value"
   ]
  },
  {
   "cell_type": "code",
   "execution_count": 80,
   "id": "b7623e24",
   "metadata": {},
   "outputs": [],
   "source": [
    "data_test['predicted_value']= predicted_value"
   ]
  },
  {
   "cell_type": "code",
   "execution_count": 78,
   "id": "c9a88791",
   "metadata": {},
   "outputs": [
    {
     "data": {
      "text/html": [
       "<div>\n",
       "<style scoped>\n",
       "    .dataframe tbody tr th:only-of-type {\n",
       "        vertical-align: middle;\n",
       "    }\n",
       "\n",
       "    .dataframe tbody tr th {\n",
       "        vertical-align: top;\n",
       "    }\n",
       "\n",
       "    .dataframe thead th {\n",
       "        text-align: right;\n",
       "    }\n",
       "</style>\n",
       "<table border=\"1\" class=\"dataframe\">\n",
       "  <thead>\n",
       "    <tr style=\"text-align: right;\">\n",
       "      <th></th>\n",
       "      <th>Close</th>\n",
       "      <th>predicted_value</th>\n",
       "    </tr>\n",
       "    <tr>\n",
       "      <th>Date</th>\n",
       "      <th></th>\n",
       "      <th></th>\n",
       "    </tr>\n",
       "  </thead>\n",
       "  <tbody>\n",
       "    <tr>\n",
       "      <th>2017-01-03</th>\n",
       "      <td>786.14</td>\n",
       "      <td>780.483704</td>\n",
       "    </tr>\n",
       "    <tr>\n",
       "      <th>2017-01-04</th>\n",
       "      <td>786.90</td>\n",
       "      <td>778.181213</td>\n",
       "    </tr>\n",
       "    <tr>\n",
       "      <th>2017-01-05</th>\n",
       "      <td>794.02</td>\n",
       "      <td>777.960266</td>\n",
       "    </tr>\n",
       "    <tr>\n",
       "      <th>2017-01-06</th>\n",
       "      <td>806.15</td>\n",
       "      <td>779.170227</td>\n",
       "    </tr>\n",
       "    <tr>\n",
       "      <th>2017-01-09</th>\n",
       "      <td>806.65</td>\n",
       "      <td>782.075745</td>\n",
       "    </tr>\n",
       "  </tbody>\n",
       "</table>\n",
       "</div>"
      ],
      "text/plain": [
       "             Close  predicted_value\n",
       "Date                               \n",
       "2017-01-03  786.14       780.483704\n",
       "2017-01-04  786.90       778.181213\n",
       "2017-01-05  794.02       777.960266\n",
       "2017-01-06  806.15       779.170227\n",
       "2017-01-09  806.65       782.075745"
      ]
     },
     "execution_count": 78,
     "metadata": {},
     "output_type": "execute_result"
    }
   ],
   "source": [
    "data_test.head()"
   ]
  },
  {
   "cell_type": "markdown",
   "id": "577756a7",
   "metadata": {},
   "source": [
    "### Plotting the Graph between Actual Price and Predicted Price"
   ]
  },
  {
   "cell_type": "code",
   "execution_count": 70,
   "id": "f69df559",
   "metadata": {},
   "outputs": [
    {
     "data": {
      "text/plain": [
       "<matplotlib.legend.Legend at 0x209e110e1f0>"
      ]
     },
     "execution_count": 70,
     "metadata": {},
     "output_type": "execute_result"
    },
    {
     "data": {
      "image/png": "[encoded data removed]",
      "text/plain": [
       "<Figure size 1152x576 with 1 Axes>"
      ]
     },
     "metadata": {
      "needs_background": "light"
     },
     "output_type": "display_data"
    }
   ],
   "source": [
    "plt.figure(figsize= (16,8))\n",
    "plt.plot(data_test['Close'], 'red', label= 'Actual Price')\n",
    "plt.plot(data_test['predicted_value'], 'blue', label= 'Predicted value')\n",
    "plt.xlabel('date')\n",
    "plt.ylabel('Prices')\n",
    "plt.title('Real vs Predicted Prices')\n",
    "plt.legend(loc='best', fontsize=20)"
   ]
  },
  {
   "cell_type": "code",
   "execution_count": 71,
   "id": "b7413e5c",
   "metadata": {},
   "outputs": [
    {
     "name": "stdout",
     "output_type": "stream",
     "text": [
      "dict_keys(['loss', 'accuracy', 'val_loss', 'val_accuracy'])\n"
     ]
    }
   ],
   "source": [
    "print(history.history.keys())"
   ]
  },
  {
   "cell_type": "markdown",
   "id": "3489ab7f",
   "metadata": {},
   "source": [
    "### Conclusion\n",
    "As you can see above, the model can predict the trend of the actual stock prices very closely. The accuracy of the model can be enhanced by training with more data and increasing the LSTM layers."
   ]
  },
  {
   "cell_type": "markdown",
   "id": "bedddaad",
   "metadata": {},
   "source": [
    "### Plotting the Validation loss curve to find out if it is good fit or not"
   ]
  },
  {
   "cell_type": "code",
   "execution_count": 113,
   "id": "61fc9e5f",
   "metadata": {
    "scrolled": false
   },
   "outputs": [
    {
     "data": {
      "image/png": "[encoded data removed]",
      "text/plain": [
       "<Figure size 1152x720 with 1 Axes>"
      ]
     },
     "metadata": {
      "needs_background": "light"
     },
     "output_type": "display_data"
    }
   ],
   "source": [
    "plt.figure(figsize= (16,10))\n",
    "plt.plot(history.history['loss'])\n",
    "plt.plot(history.history['val_loss'])\n",
    "plt.title('model loss')\n",
    "plt.ylabel('loss')\n",
    "plt.xlabel('epoch')\n",
    "plt.legend(['train', 'test'], loc='upper left')\n",
    "plt.show()"
   ]
  },
  {
   "cell_type": "markdown",
   "id": "54be774b",
   "metadata": {},
   "source": [
    "### Conclusion\n",
    "As we can see, the model can predict the trend of the actual stock prices closely. The accuracy of the model can be enhanced by training with more data and increasing the LSTM layers."
   ]
  },
  {
   "cell_type": "markdown",
   "id": "bcad3382",
   "metadata": {},
   "source": [
    "# THANKYOU"
   ]
  },
  {
   "cell_type": "code",
   "execution_count": null,
   "id": "304eccb2",
   "metadata": {},
   "outputs": [],
   "source": []
  }
 ],
 "metadata": {
  "kernelspec": {
   "display_name": "Python 3 (ipykernel)",
   "language": "python",
   "name": "python3"
  },
  "language_info": {
   "codemirror_mode": {
    "name": "ipython",
    "version": 3
   },
   "file_extension": ".py",
   "mimetype": "text/x-python",
   "name": "python",
   "nbconvert_exporter": "python",
   "pygments_lexer": "ipython3",
   "version": "3.9.12"
  }
 },
 "nbformat": 4,
 "nbformat_minor": 5
}
